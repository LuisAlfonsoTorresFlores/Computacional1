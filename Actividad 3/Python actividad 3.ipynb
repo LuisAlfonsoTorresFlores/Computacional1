{
 "cells": [
  {
   "cell_type": "code",
   "execution_count": 8,
   "metadata": {
    "collapsed": false
   },
   "outputs": [],
   "source": [
    "import pandas as pd\n",
    "\n",
    "import numpy as np\n",
    "\n",
    "import matplotlib as plt\n",
    "\n",
    "df = pd.read_csv(\"/home/luistorres/Fisica computacional/Act 3/00Zanual.csv\" , names=[\"Fecha\", \"CAPE\" , \"Agua precipitable\"])\n"
   ]
  },
  {
   "cell_type": "code",
   "execution_count": 28,
   "metadata": {
    "collapsed": false
   },
   "outputs": [
    {
     "data": {
      "text/html": [
       "<div>\n",
       "<table border=\"1\" class=\"dataframe\">\n",
       "  <thead>\n",
       "    <tr style=\"text-align: right;\">\n",
       "      <th></th>\n",
       "      <th>Fecha</th>\n",
       "      <th>CAPE</th>\n",
       "      <th>Agua precipitable</th>\n",
       "    </tr>\n",
       "  </thead>\n",
       "  <tbody>\n",
       "    <tr>\n",
       "      <th>0</th>\n",
       "      <td>01 Jan 2016&lt;/H2&gt;</td>\n",
       "      <td>0.00</td>\n",
       "      <td>39.86</td>\n",
       "    </tr>\n",
       "    <tr>\n",
       "      <th>1</th>\n",
       "      <td>02 Jan 2016&lt;/H2&gt;</td>\n",
       "      <td>0.00</td>\n",
       "      <td>39.87</td>\n",
       "    </tr>\n",
       "    <tr>\n",
       "      <th>2</th>\n",
       "      <td>03 Jan 2016&lt;/H2&gt;</td>\n",
       "      <td>0.00</td>\n",
       "      <td>38.34</td>\n",
       "    </tr>\n",
       "    <tr>\n",
       "      <th>3</th>\n",
       "      <td>04 Jan 2016&lt;/H2&gt;</td>\n",
       "      <td>0.00</td>\n",
       "      <td>14.90</td>\n",
       "    </tr>\n",
       "    <tr>\n",
       "      <th>4</th>\n",
       "      <td>05 Jan 2016&lt;/H2&gt;</td>\n",
       "      <td>0.00</td>\n",
       "      <td>16.49</td>\n",
       "    </tr>\n",
       "    <tr>\n",
       "      <th>5</th>\n",
       "      <td>06 Jan 2016&lt;/H2&gt;</td>\n",
       "      <td>0.00</td>\n",
       "      <td>28.25</td>\n",
       "    </tr>\n",
       "    <tr>\n",
       "      <th>6</th>\n",
       "      <td>07 Jan 2016&lt;/H2&gt;</td>\n",
       "      <td>1078.95</td>\n",
       "      <td>32.20</td>\n",
       "    </tr>\n",
       "    <tr>\n",
       "      <th>7</th>\n",
       "      <td>08 Jan 2016&lt;/H2&gt;</td>\n",
       "      <td>306.22</td>\n",
       "      <td>19.03</td>\n",
       "    </tr>\n",
       "    <tr>\n",
       "      <th>8</th>\n",
       "      <td>09 Jan 2016&lt;/H2&gt;</td>\n",
       "      <td>748.45</td>\n",
       "      <td>17.97</td>\n",
       "    </tr>\n",
       "    <tr>\n",
       "      <th>9</th>\n",
       "      <td>10 Jan 2016&lt;/H2&gt;</td>\n",
       "      <td>0.00</td>\n",
       "      <td>11.37</td>\n",
       "    </tr>\n",
       "    <tr>\n",
       "      <th>10</th>\n",
       "      <td>11 Jan 2016&lt;/H2&gt;</td>\n",
       "      <td>0.00</td>\n",
       "      <td>10.49</td>\n",
       "    </tr>\n",
       "    <tr>\n",
       "      <th>11</th>\n",
       "      <td>12 Jan 2016&lt;/H2&gt;</td>\n",
       "      <td>0.00</td>\n",
       "      <td>26.48</td>\n",
       "    </tr>\n",
       "    <tr>\n",
       "      <th>12</th>\n",
       "      <td>13 Jan 2016&lt;/H2&gt;</td>\n",
       "      <td>0.00</td>\n",
       "      <td>23.02</td>\n",
       "    </tr>\n",
       "    <tr>\n",
       "      <th>13</th>\n",
       "      <td>14 Jan 2016&lt;/H2&gt;</td>\n",
       "      <td>61.50</td>\n",
       "      <td>33.29</td>\n",
       "    </tr>\n",
       "    <tr>\n",
       "      <th>14</th>\n",
       "      <td>15 Jan 2016&lt;/H2&gt;</td>\n",
       "      <td>663.25</td>\n",
       "      <td>23.51</td>\n",
       "    </tr>\n",
       "    <tr>\n",
       "      <th>15</th>\n",
       "      <td>16 Jan 2016&lt;/H2&gt;</td>\n",
       "      <td>0.00</td>\n",
       "      <td>8.22</td>\n",
       "    </tr>\n",
       "    <tr>\n",
       "      <th>16</th>\n",
       "      <td>17 Jan 2016&lt;/H2&gt;</td>\n",
       "      <td>0.00</td>\n",
       "      <td>11.20</td>\n",
       "    </tr>\n",
       "    <tr>\n",
       "      <th>17</th>\n",
       "      <td>18 Jan 2016&lt;/H2&gt;</td>\n",
       "      <td>0.00</td>\n",
       "      <td>12.03</td>\n",
       "    </tr>\n",
       "    <tr>\n",
       "      <th>18</th>\n",
       "      <td>19 Jan 2016&lt;/H2&gt;</td>\n",
       "      <td>0.00</td>\n",
       "      <td>15.39</td>\n",
       "    </tr>\n",
       "    <tr>\n",
       "      <th>19</th>\n",
       "      <td>20 Jan 2016&lt;/H2&gt;</td>\n",
       "      <td>0.18</td>\n",
       "      <td>21.20</td>\n",
       "    </tr>\n",
       "    <tr>\n",
       "      <th>20</th>\n",
       "      <td>21 Jan 2016&lt;/H2&gt;</td>\n",
       "      <td>922.71</td>\n",
       "      <td>24.32</td>\n",
       "    </tr>\n",
       "    <tr>\n",
       "      <th>21</th>\n",
       "      <td>22 Jan 2016&lt;/H2&gt;</td>\n",
       "      <td>0.00</td>\n",
       "      <td>12.20</td>\n",
       "    </tr>\n",
       "    <tr>\n",
       "      <th>22</th>\n",
       "      <td>23 Jan 2016&lt;/H2&gt;</td>\n",
       "      <td>0.00</td>\n",
       "      <td>8.07</td>\n",
       "    </tr>\n",
       "    <tr>\n",
       "      <th>23</th>\n",
       "      <td>24 Jan 2016&lt;/H2&gt;</td>\n",
       "      <td>0.00</td>\n",
       "      <td>9.59</td>\n",
       "    </tr>\n",
       "    <tr>\n",
       "      <th>24</th>\n",
       "      <td>25 Jan 2016&lt;/H2&gt;</td>\n",
       "      <td>3.17</td>\n",
       "      <td>16.10</td>\n",
       "    </tr>\n",
       "    <tr>\n",
       "      <th>25</th>\n",
       "      <td>26 Jan 2016&lt;/H2&gt;</td>\n",
       "      <td>50.93</td>\n",
       "      <td>25.49</td>\n",
       "    </tr>\n",
       "    <tr>\n",
       "      <th>26</th>\n",
       "      <td>27 Jan 2016&lt;/H2&gt;</td>\n",
       "      <td>0.00</td>\n",
       "      <td>26.88</td>\n",
       "    </tr>\n",
       "    <tr>\n",
       "      <th>27</th>\n",
       "      <td>28 Jan 2016&lt;/H2&gt;</td>\n",
       "      <td>0.00</td>\n",
       "      <td>18.40</td>\n",
       "    </tr>\n",
       "    <tr>\n",
       "      <th>28</th>\n",
       "      <td>29 Jan 2016&lt;/H2&gt;</td>\n",
       "      <td>0.00</td>\n",
       "      <td>8.84</td>\n",
       "    </tr>\n",
       "    <tr>\n",
       "      <th>29</th>\n",
       "      <td>30 Jan 2016&lt;/H2&gt;</td>\n",
       "      <td>0.00</td>\n",
       "      <td>8.74</td>\n",
       "    </tr>\n",
       "  </tbody>\n",
       "</table>\n",
       "</div>"
      ],
      "text/plain": [
       "                Fecha     CAPE  Agua precipitable\n",
       "0    01 Jan 2016</H2>     0.00              39.86\n",
       "1    02 Jan 2016</H2>     0.00              39.87\n",
       "2    03 Jan 2016</H2>     0.00              38.34\n",
       "3    04 Jan 2016</H2>     0.00              14.90\n",
       "4    05 Jan 2016</H2>     0.00              16.49\n",
       "5    06 Jan 2016</H2>     0.00              28.25\n",
       "6    07 Jan 2016</H2>  1078.95              32.20\n",
       "7    08 Jan 2016</H2>   306.22              19.03\n",
       "8    09 Jan 2016</H2>   748.45              17.97\n",
       "9    10 Jan 2016</H2>     0.00              11.37\n",
       "10   11 Jan 2016</H2>     0.00              10.49\n",
       "11   12 Jan 2016</H2>     0.00              26.48\n",
       "12   13 Jan 2016</H2>     0.00              23.02\n",
       "13   14 Jan 2016</H2>    61.50              33.29\n",
       "14   15 Jan 2016</H2>   663.25              23.51\n",
       "15   16 Jan 2016</H2>     0.00               8.22\n",
       "16   17 Jan 2016</H2>     0.00              11.20\n",
       "17   18 Jan 2016</H2>     0.00              12.03\n",
       "18   19 Jan 2016</H2>     0.00              15.39\n",
       "19   20 Jan 2016</H2>     0.18              21.20\n",
       "20   21 Jan 2016</H2>   922.71              24.32\n",
       "21   22 Jan 2016</H2>     0.00              12.20\n",
       "22   23 Jan 2016</H2>     0.00               8.07\n",
       "23   24 Jan 2016</H2>     0.00               9.59\n",
       "24   25 Jan 2016</H2>     3.17              16.10\n",
       "25   26 Jan 2016</H2>    50.93              25.49\n",
       "26   27 Jan 2016</H2>     0.00              26.88\n",
       "27   28 Jan 2016</H2>     0.00              18.40\n",
       "28   29 Jan 2016</H2>     0.00               8.84\n",
       "29   30 Jan 2016</H2>     0.00               8.74"
      ]
     },
     "execution_count": 28,
     "metadata": {},
     "output_type": "execute_result"
    }
   ],
   "source": [
    "df.head(30)"
   ]
  },
  {
   "cell_type": "code",
   "execution_count": 27,
   "metadata": {
    "collapsed": false
   },
   "outputs": [
    {
     "data": {
      "text/html": [
       "<div>\n",
       "<table border=\"1\" class=\"dataframe\">\n",
       "  <thead>\n",
       "    <tr style=\"text-align: right;\">\n",
       "      <th></th>\n",
       "      <th>Fecha</th>\n",
       "      <th>CAPE</th>\n",
       "      <th>Agua precipitable</th>\n",
       "    </tr>\n",
       "  </thead>\n",
       "  <tbody>\n",
       "    <tr>\n",
       "      <th>0</th>\n",
       "      <td>01 Jan 2016&lt;/H2&gt;</td>\n",
       "      <td>0.0</td>\n",
       "      <td>39.86</td>\n",
       "    </tr>\n",
       "    <tr>\n",
       "      <th>1</th>\n",
       "      <td>02 Jan 2016&lt;/H2&gt;</td>\n",
       "      <td>0.0</td>\n",
       "      <td>39.87</td>\n",
       "    </tr>\n",
       "    <tr>\n",
       "      <th>2</th>\n",
       "      <td>03 Jan 2016&lt;/H2&gt;</td>\n",
       "      <td>0.0</td>\n",
       "      <td>38.34</td>\n",
       "    </tr>\n",
       "    <tr>\n",
       "      <th>3</th>\n",
       "      <td>04 Jan 2016&lt;/H2&gt;</td>\n",
       "      <td>0.0</td>\n",
       "      <td>14.90</td>\n",
       "    </tr>\n",
       "    <tr>\n",
       "      <th>4</th>\n",
       "      <td>05 Jan 2016&lt;/H2&gt;</td>\n",
       "      <td>0.0</td>\n",
       "      <td>16.49</td>\n",
       "    </tr>\n",
       "  </tbody>\n",
       "</table>\n",
       "</div>"
      ],
      "text/plain": [
       "               Fecha  CAPE  Agua precipitable\n",
       "0   01 Jan 2016</H2>   0.0              39.86\n",
       "1   02 Jan 2016</H2>   0.0              39.87\n",
       "2   03 Jan 2016</H2>   0.0              38.34\n",
       "3   04 Jan 2016</H2>   0.0              14.90\n",
       "4   05 Jan 2016</H2>   0.0              16.49"
      ]
     },
     "execution_count": 27,
     "metadata": {},
     "output_type": "execute_result"
    }
   ],
   "source": [
    "df.head()"
   ]
  },
  {
   "cell_type": "code",
   "execution_count": 10,
   "metadata": {
    "collapsed": false
   },
   "outputs": [
    {
     "data": {
      "text/html": [
       "<div>\n",
       "<table border=\"1\" class=\"dataframe\">\n",
       "  <thead>\n",
       "    <tr style=\"text-align: right;\">\n",
       "      <th></th>\n",
       "      <th>CAPE</th>\n",
       "      <th>Agua precipitable</th>\n",
       "    </tr>\n",
       "  </thead>\n",
       "  <tbody>\n",
       "    <tr>\n",
       "      <th>count</th>\n",
       "      <td>364.000000</td>\n",
       "      <td>364.000000</td>\n",
       "    </tr>\n",
       "    <tr>\n",
       "      <th>mean</th>\n",
       "      <td>1166.184451</td>\n",
       "      <td>35.477363</td>\n",
       "    </tr>\n",
       "    <tr>\n",
       "      <th>std</th>\n",
       "      <td>1064.990493</td>\n",
       "      <td>12.803997</td>\n",
       "    </tr>\n",
       "    <tr>\n",
       "      <th>min</th>\n",
       "      <td>0.000000</td>\n",
       "      <td>1.080000</td>\n",
       "    </tr>\n",
       "    <tr>\n",
       "      <th>25%</th>\n",
       "      <td>2.047500</td>\n",
       "      <td>26.472500</td>\n",
       "    </tr>\n",
       "    <tr>\n",
       "      <th>50%</th>\n",
       "      <td>1118.090000</td>\n",
       "      <td>37.660000</td>\n",
       "    </tr>\n",
       "    <tr>\n",
       "      <th>75%</th>\n",
       "      <td>1968.915000</td>\n",
       "      <td>45.537500</td>\n",
       "    </tr>\n",
       "    <tr>\n",
       "      <th>max</th>\n",
       "      <td>5692.380000</td>\n",
       "      <td>62.500000</td>\n",
       "    </tr>\n",
       "  </tbody>\n",
       "</table>\n",
       "</div>"
      ],
      "text/plain": [
       "              CAPE  Agua precipitable\n",
       "count   364.000000         364.000000\n",
       "mean   1166.184451          35.477363\n",
       "std    1064.990493          12.803997\n",
       "min       0.000000           1.080000\n",
       "25%       2.047500          26.472500\n",
       "50%    1118.090000          37.660000\n",
       "75%    1968.915000          45.537500\n",
       "max    5692.380000          62.500000"
      ]
     },
     "execution_count": 10,
     "metadata": {},
     "output_type": "execute_result"
    }
   ],
   "source": [
    "\n",
    "df.describe()\n"
   ]
  },
  {
   "cell_type": "code",
   "execution_count": 11,
   "metadata": {
    "collapsed": false
   },
   "outputs": [
    {
     "data": {
      "text/plain": [
       "Fecha                0\n",
       "CAPE                 0\n",
       "Agua precipitable    0\n",
       "dtype: int64"
      ]
     },
     "execution_count": 11,
     "metadata": {},
     "output_type": "execute_result"
    }
   ],
   "source": [
    "df.apply(lambda x: sum(x.isnull()),axis=0)"
   ]
  },
  {
   "cell_type": "code",
   "execution_count": 12,
   "metadata": {
    "collapsed": true
   },
   "outputs": [],
   "source": [
    "df_clean = df.dropna()"
   ]
  },
  {
   "cell_type": "code",
   "execution_count": 13,
   "metadata": {
    "collapsed": false
   },
   "outputs": [
    {
     "data": {
      "text/html": [
       "<div>\n",
       "<table border=\"1\" class=\"dataframe\">\n",
       "  <thead>\n",
       "    <tr style=\"text-align: right;\">\n",
       "      <th></th>\n",
       "      <th>CAPE</th>\n",
       "      <th>Agua precipitable</th>\n",
       "    </tr>\n",
       "  </thead>\n",
       "  <tbody>\n",
       "    <tr>\n",
       "      <th>count</th>\n",
       "      <td>364.000000</td>\n",
       "      <td>364.000000</td>\n",
       "    </tr>\n",
       "    <tr>\n",
       "      <th>mean</th>\n",
       "      <td>1166.184451</td>\n",
       "      <td>35.477363</td>\n",
       "    </tr>\n",
       "    <tr>\n",
       "      <th>std</th>\n",
       "      <td>1064.990493</td>\n",
       "      <td>12.803997</td>\n",
       "    </tr>\n",
       "    <tr>\n",
       "      <th>min</th>\n",
       "      <td>0.000000</td>\n",
       "      <td>1.080000</td>\n",
       "    </tr>\n",
       "    <tr>\n",
       "      <th>25%</th>\n",
       "      <td>2.047500</td>\n",
       "      <td>26.472500</td>\n",
       "    </tr>\n",
       "    <tr>\n",
       "      <th>50%</th>\n",
       "      <td>1118.090000</td>\n",
       "      <td>37.660000</td>\n",
       "    </tr>\n",
       "    <tr>\n",
       "      <th>75%</th>\n",
       "      <td>1968.915000</td>\n",
       "      <td>45.537500</td>\n",
       "    </tr>\n",
       "    <tr>\n",
       "      <th>max</th>\n",
       "      <td>5692.380000</td>\n",
       "      <td>62.500000</td>\n",
       "    </tr>\n",
       "  </tbody>\n",
       "</table>\n",
       "</div>"
      ],
      "text/plain": [
       "              CAPE  Agua precipitable\n",
       "count   364.000000         364.000000\n",
       "mean   1166.184451          35.477363\n",
       "std    1064.990493          12.803997\n",
       "min       0.000000           1.080000\n",
       "25%       2.047500          26.472500\n",
       "50%    1118.090000          37.660000\n",
       "75%    1968.915000          45.537500\n",
       "max    5692.380000          62.500000"
      ]
     },
     "execution_count": 13,
     "metadata": {},
     "output_type": "execute_result"
    }
   ],
   "source": [
    "df_clean.describe()"
   ]
  },
  {
   "cell_type": "code",
   "execution_count": 15,
   "metadata": {
    "collapsed": false
   },
   "outputs": [],
   "source": [
    "df.CAPE= pd.to_numeric(df.CAPE, errors='coerce')"
   ]
  },
  {
   "cell_type": "code",
   "execution_count": 16,
   "metadata": {
    "collapsed": false
   },
   "outputs": [
    {
     "data": {
      "text/plain": [
       "Index(['Fecha', 'CAPE', 'Agua precipitable'], dtype='object')"
      ]
     },
     "execution_count": 16,
     "metadata": {},
     "output_type": "execute_result"
    }
   ],
   "source": [
    "df.columns"
   ]
  },
  {
   "cell_type": "code",
   "execution_count": 21,
   "metadata": {
    "collapsed": true
   },
   "outputs": [],
   "source": [
    "matplotlib inline"
   ]
  },
  {
   "cell_type": "code",
   "execution_count": 25,
   "metadata": {
    "collapsed": false
   },
   "outputs": [
    {
     "data": {
      "text/plain": [
       "<matplotlib.axes._subplots.AxesSubplot at 0x7f1b9d81dd68>"
      ]
     },
     "execution_count": 25,
     "metadata": {},
     "output_type": "execute_result"
    },
    {
     "data": {
      "image/png": "[encoded data removed]",
      "text/plain": [
       "<matplotlib.figure.Figure at 0x7f1b9d7e1c88>"
      ]
     },
     "metadata": {},
     "output_type": "display_data"
    }
   ],
   "source": [
    "df_clean['CAPE'].hist(bins=10)"
   ]
  },
  {
   "cell_type": "code",
   "execution_count": 24,
   "metadata": {
    "collapsed": false,
    "scrolled": true
   },
   "outputs": [
    {
     "data": {
      "text/plain": [
       "<matplotlib.axes._subplots.AxesSubplot at 0x7f1b9d804e48>"
      ]
     },
     "execution_count": 24,
     "metadata": {},
     "output_type": "execute_result"
    },
    {
     "data": {
      "image/png": "[encoded data removed]",
      "text/plain": [
       "<matplotlib.figure.Figure at 0x7f1b9d853cc0>"
      ]
     },
     "metadata": {},
     "output_type": "display_data"
    }
   ],
   "source": [
    "df_clean['Agua precipitable'].hist(bins=10)"
   ]
  },
  {
   "cell_type": "code",
   "execution_count": 30,
   "metadata": {
    "collapsed": false
   },
   "outputs": [
    {
     "data": {
      "text/plain": [
       "<matplotlib.axes._subplots.AxesSubplot at 0x7f1b9d7b7a20>"
      ]
     },
     "execution_count": 30,
     "metadata": {},
     "output_type": "execute_result"
    },
    {
     "data": {
      "image/png": "[encoded data removed]",
      "text/plain": [
       "<matplotlib.figure.Figure at 0x7f1b9e40c198>"
      ]
     },
     "metadata": {},
     "output_type": "display_data"
    }
   ],
   "source": [
    "df_clean.boxplot(column='CAPE' , return_type='axes')"
   ]
  },
  {
   "cell_type": "code",
   "execution_count": 31,
   "metadata": {
    "collapsed": false
   },
   "outputs": [
    {
     "data": {
      "text/plain": [
       "<matplotlib.axes._subplots.AxesSubplot at 0x7f1b9d757fd0>"
      ]
     },
     "execution_count": 31,
     "metadata": {},
     "output_type": "execute_result"
    },
    {
     "data": {
      "image/png": "[encoded data removed]",
      "text/plain": [
       "<matplotlib.figure.Figure at 0x7f1b9d75db38>"
      ]
     },
     "metadata": {},
     "output_type": "display_data"
    }
   ],
   "source": [
    "df_clean.boxplot(column='Agua precipitable' , return_type='axes')"
   ]
  },
  {
   "cell_type": "code",
   "execution_count": null,
   "metadata": {
    "collapsed": true
   },
   "outputs": [],
   "source": []
  }
 ],
 "metadata": {
  "anaconda-cloud": {},
  "kernelspec": {
   "display_name": "Python [conda root]",
   "language": "python",
   "name": "conda-root-py"
  },
  "language_info": {
   "codemirror_mode": {
    "name": "ipython",
    "version": 3
   },
   "file_extension": ".py",
   "mimetype": "text/x-python",
   "name": "python",
   "nbconvert_exporter": "python",
   "pygments_lexer": "ipython3",
   "version": "3.5.2"
  }
 },
 "nbformat": 4,
 "nbformat_minor": 1
}
