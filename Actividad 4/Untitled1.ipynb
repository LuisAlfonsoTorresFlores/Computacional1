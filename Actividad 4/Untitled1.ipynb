{
 "cells": [
  {
   "cell_type": "code",
   "execution_count": 3,
   "metadata": {
    "collapsed": false
   },
   "outputs": [],
   "source": [
    "import pandas as pd\n",
    "\n",
    "import numpy as np\n",
    "\n",
    "import matplotlib.pyplot as plt\n",
    "\n",
    "df = pd.read_csv(\"/home/luistorres/Fisica_computacional/Act_4/21-Feb-Brownsville-limpio.csv\" , names=[\"PRES\",\"HGHT\",\"TEMP\",\"DWPT\",\"RELH\",\"MIXR\",\"DRCT\",\"SKNT\",\"THTA\",\"THTE\",\"THTV\"])"
   ]
  },
  {
   "cell_type": "code",
   "execution_count": 5,
   "metadata": {
    "collapsed": false,
    "scrolled": false
   },
   "outputs": [
    {
     "data": {
      "text/html": [
       "<div>\n",
       "<table border=\"1\" class=\"dataframe\">\n",
       "  <thead>\n",
       "    <tr style=\"text-align: right;\">\n",
       "      <th></th>\n",
       "      <th>PRES</th>\n",
       "      <th>HGHT</th>\n",
       "      <th>TEMP</th>\n",
       "      <th>DWPT</th>\n",
       "      <th>RELH</th>\n",
       "      <th>MIXR</th>\n",
       "      <th>DRCT</th>\n",
       "      <th>SKNT</th>\n",
       "      <th>THTA</th>\n",
       "      <th>THTE</th>\n",
       "      <th>THTV</th>\n",
       "    </tr>\n",
       "  </thead>\n",
       "  <tbody>\n",
       "    <tr>\n",
       "      <th>0</th>\n",
       "      <td>1017.0</td>\n",
       "      <td>7</td>\n",
       "      <td>15.2</td>\n",
       "      <td>15.0</td>\n",
       "      <td>99</td>\n",
       "      <td>10.65</td>\n",
       "      <td>260.0</td>\n",
       "      <td>6.0</td>\n",
       "      <td>287.0</td>\n",
       "      <td>316.7</td>\n",
       "      <td>288.8</td>\n",
       "    </tr>\n",
       "    <tr>\n",
       "      <th>1</th>\n",
       "      <td>1000.0</td>\n",
       "      <td>149</td>\n",
       "      <td>18.0</td>\n",
       "      <td>16.7</td>\n",
       "      <td>92</td>\n",
       "      <td>12.10</td>\n",
       "      <td>240.0</td>\n",
       "      <td>21.0</td>\n",
       "      <td>291.1</td>\n",
       "      <td>325.5</td>\n",
       "      <td>293.3</td>\n",
       "    </tr>\n",
       "    <tr>\n",
       "      <th>2</th>\n",
       "      <td>999.0</td>\n",
       "      <td>158</td>\n",
       "      <td>18.0</td>\n",
       "      <td>16.6</td>\n",
       "      <td>92</td>\n",
       "      <td>12.03</td>\n",
       "      <td>240.0</td>\n",
       "      <td>21.0</td>\n",
       "      <td>291.2</td>\n",
       "      <td>325.4</td>\n",
       "      <td>293.3</td>\n",
       "    </tr>\n",
       "    <tr>\n",
       "      <th>3</th>\n",
       "      <td>989.0</td>\n",
       "      <td>244</td>\n",
       "      <td>18.0</td>\n",
       "      <td>16.0</td>\n",
       "      <td>88</td>\n",
       "      <td>11.69</td>\n",
       "      <td>240.0</td>\n",
       "      <td>21.0</td>\n",
       "      <td>292.1</td>\n",
       "      <td>325.4</td>\n",
       "      <td>294.1</td>\n",
       "    </tr>\n",
       "    <tr>\n",
       "      <th>4</th>\n",
       "      <td>982.0</td>\n",
       "      <td>305</td>\n",
       "      <td>18.9</td>\n",
       "      <td>12.9</td>\n",
       "      <td>68</td>\n",
       "      <td>9.61</td>\n",
       "      <td>240.0</td>\n",
       "      <td>21.0</td>\n",
       "      <td>293.6</td>\n",
       "      <td>321.3</td>\n",
       "      <td>295.3</td>\n",
       "    </tr>\n",
       "    <tr>\n",
       "      <th>5</th>\n",
       "      <td>975.0</td>\n",
       "      <td>366</td>\n",
       "      <td>19.8</td>\n",
       "      <td>9.8</td>\n",
       "      <td>52</td>\n",
       "      <td>7.86</td>\n",
       "      <td>248.0</td>\n",
       "      <td>22.0</td>\n",
       "      <td>295.1</td>\n",
       "      <td>318.1</td>\n",
       "      <td>296.5</td>\n",
       "    </tr>\n",
       "    <tr>\n",
       "      <th>6</th>\n",
       "      <td>960.0</td>\n",
       "      <td>500</td>\n",
       "      <td>19.4</td>\n",
       "      <td>8.4</td>\n",
       "      <td>49</td>\n",
       "      <td>7.25</td>\n",
       "      <td>266.0</td>\n",
       "      <td>23.0</td>\n",
       "      <td>296.0</td>\n",
       "      <td>317.3</td>\n",
       "      <td>297.3</td>\n",
       "    </tr>\n",
       "    <tr>\n",
       "      <th>7</th>\n",
       "      <td>952.0</td>\n",
       "      <td>572</td>\n",
       "      <td>20.8</td>\n",
       "      <td>2.8</td>\n",
       "      <td>30</td>\n",
       "      <td>4.94</td>\n",
       "      <td>275.0</td>\n",
       "      <td>24.0</td>\n",
       "      <td>298.1</td>\n",
       "      <td>313.1</td>\n",
       "      <td>299.0</td>\n",
       "    </tr>\n",
       "    <tr>\n",
       "      <th>8</th>\n",
       "      <td>947.8</td>\n",
       "      <td>610</td>\n",
       "      <td>20.3</td>\n",
       "      <td>2.9</td>\n",
       "      <td>32</td>\n",
       "      <td>4.98</td>\n",
       "      <td>280.0</td>\n",
       "      <td>24.0</td>\n",
       "      <td>298.0</td>\n",
       "      <td>313.0</td>\n",
       "      <td>298.9</td>\n",
       "    </tr>\n",
       "    <tr>\n",
       "      <th>9</th>\n",
       "      <td>937.0</td>\n",
       "      <td>708</td>\n",
       "      <td>19.0</td>\n",
       "      <td>3.0</td>\n",
       "      <td>35</td>\n",
       "      <td>5.09</td>\n",
       "      <td>292.0</td>\n",
       "      <td>26.0</td>\n",
       "      <td>297.6</td>\n",
       "      <td>313.0</td>\n",
       "      <td>298.6</td>\n",
       "    </tr>\n",
       "    <tr>\n",
       "      <th>10</th>\n",
       "      <td>925.0</td>\n",
       "      <td>819</td>\n",
       "      <td>19.4</td>\n",
       "      <td>-0.6</td>\n",
       "      <td>26</td>\n",
       "      <td>3.98</td>\n",
       "      <td>305.0</td>\n",
       "      <td>29.0</td>\n",
       "      <td>299.1</td>\n",
       "      <td>311.4</td>\n",
       "      <td>299.9</td>\n",
       "    </tr>\n",
       "    <tr>\n",
       "      <th>11</th>\n",
       "      <td>923.0</td>\n",
       "      <td>838</td>\n",
       "      <td>19.4</td>\n",
       "      <td>-0.6</td>\n",
       "      <td>26</td>\n",
       "      <td>3.98</td>\n",
       "      <td>307.0</td>\n",
       "      <td>30.0</td>\n",
       "      <td>299.3</td>\n",
       "      <td>311.6</td>\n",
       "      <td>300.1</td>\n",
       "    </tr>\n",
       "    <tr>\n",
       "      <th>12</th>\n",
       "      <td>914.8</td>\n",
       "      <td>914</td>\n",
       "      <td>18.9</td>\n",
       "      <td>-1.5</td>\n",
       "      <td>25</td>\n",
       "      <td>3.75</td>\n",
       "      <td>315.0</td>\n",
       "      <td>33.0</td>\n",
       "      <td>299.5</td>\n",
       "      <td>311.1</td>\n",
       "      <td>300.2</td>\n",
       "    </tr>\n",
       "    <tr>\n",
       "      <th>13</th>\n",
       "      <td>902.0</td>\n",
       "      <td>1035</td>\n",
       "      <td>18.0</td>\n",
       "      <td>-3.0</td>\n",
       "      <td>24</td>\n",
       "      <td>3.41</td>\n",
       "      <td>317.0</td>\n",
       "      <td>33.0</td>\n",
       "      <td>299.9</td>\n",
       "      <td>310.4</td>\n",
       "      <td>300.5</td>\n",
       "    </tr>\n",
       "    <tr>\n",
       "      <th>14</th>\n",
       "      <td>882.6</td>\n",
       "      <td>1219</td>\n",
       "      <td>16.2</td>\n",
       "      <td>-3.7</td>\n",
       "      <td>25</td>\n",
       "      <td>3.32</td>\n",
       "      <td>320.0</td>\n",
       "      <td>32.0</td>\n",
       "      <td>299.9</td>\n",
       "      <td>310.2</td>\n",
       "      <td>300.5</td>\n",
       "    </tr>\n",
       "    <tr>\n",
       "      <th>15</th>\n",
       "      <td>850.0</td>\n",
       "      <td>1538</td>\n",
       "      <td>13.2</td>\n",
       "      <td>-4.8</td>\n",
       "      <td>28</td>\n",
       "      <td>3.16</td>\n",
       "      <td>315.0</td>\n",
       "      <td>33.0</td>\n",
       "      <td>300.0</td>\n",
       "      <td>309.8</td>\n",
       "      <td>300.5</td>\n",
       "    </tr>\n",
       "    <tr>\n",
       "      <th>16</th>\n",
       "      <td>820.8</td>\n",
       "      <td>1829</td>\n",
       "      <td>10.3</td>\n",
       "      <td>-5.0</td>\n",
       "      <td>34</td>\n",
       "      <td>3.22</td>\n",
       "      <td>315.0</td>\n",
       "      <td>32.0</td>\n",
       "      <td>299.9</td>\n",
       "      <td>310.0</td>\n",
       "      <td>300.5</td>\n",
       "    </tr>\n",
       "    <tr>\n",
       "      <th>17</th>\n",
       "      <td>796.0</td>\n",
       "      <td>2084</td>\n",
       "      <td>7.8</td>\n",
       "      <td>-5.2</td>\n",
       "      <td>39</td>\n",
       "      <td>3.28</td>\n",
       "      <td>315.0</td>\n",
       "      <td>30.0</td>\n",
       "      <td>299.9</td>\n",
       "      <td>310.1</td>\n",
       "      <td>300.5</td>\n",
       "    </tr>\n",
       "    <tr>\n",
       "      <th>18</th>\n",
       "      <td>791.2</td>\n",
       "      <td>2134</td>\n",
       "      <td>7.6</td>\n",
       "      <td>-9.2</td>\n",
       "      <td>29</td>\n",
       "      <td>2.41</td>\n",
       "      <td>315.0</td>\n",
       "      <td>30.0</td>\n",
       "      <td>300.2</td>\n",
       "      <td>307.8</td>\n",
       "      <td>300.6</td>\n",
       "    </tr>\n",
       "    <tr>\n",
       "      <th>19</th>\n",
       "      <td>791.0</td>\n",
       "      <td>2136</td>\n",
       "      <td>7.6</td>\n",
       "      <td>-9.4</td>\n",
       "      <td>29</td>\n",
       "      <td>2.38</td>\n",
       "      <td>315.0</td>\n",
       "      <td>30.0</td>\n",
       "      <td>300.2</td>\n",
       "      <td>307.8</td>\n",
       "      <td>300.6</td>\n",
       "    </tr>\n",
       "  </tbody>\n",
       "</table>\n",
       "</div>"
      ],
      "text/plain": [
       "      PRES  HGHT  TEMP  DWPT  RELH   MIXR   DRCT  SKNT   THTA   THTE   THTV\n",
       "0   1017.0     7  15.2  15.0    99  10.65  260.0   6.0  287.0  316.7  288.8\n",
       "1   1000.0   149  18.0  16.7    92  12.10  240.0  21.0  291.1  325.5  293.3\n",
       "2    999.0   158  18.0  16.6    92  12.03  240.0  21.0  291.2  325.4  293.3\n",
       "3    989.0   244  18.0  16.0    88  11.69  240.0  21.0  292.1  325.4  294.1\n",
       "4    982.0   305  18.9  12.9    68   9.61  240.0  21.0  293.6  321.3  295.3\n",
       "5    975.0   366  19.8   9.8    52   7.86  248.0  22.0  295.1  318.1  296.5\n",
       "6    960.0   500  19.4   8.4    49   7.25  266.0  23.0  296.0  317.3  297.3\n",
       "7    952.0   572  20.8   2.8    30   4.94  275.0  24.0  298.1  313.1  299.0\n",
       "8    947.8   610  20.3   2.9    32   4.98  280.0  24.0  298.0  313.0  298.9\n",
       "9    937.0   708  19.0   3.0    35   5.09  292.0  26.0  297.6  313.0  298.6\n",
       "10   925.0   819  19.4  -0.6    26   3.98  305.0  29.0  299.1  311.4  299.9\n",
       "11   923.0   838  19.4  -0.6    26   3.98  307.0  30.0  299.3  311.6  300.1\n",
       "12   914.8   914  18.9  -1.5    25   3.75  315.0  33.0  299.5  311.1  300.2\n",
       "13   902.0  1035  18.0  -3.0    24   3.41  317.0  33.0  299.9  310.4  300.5\n",
       "14   882.6  1219  16.2  -3.7    25   3.32  320.0  32.0  299.9  310.2  300.5\n",
       "15   850.0  1538  13.2  -4.8    28   3.16  315.0  33.0  300.0  309.8  300.5\n",
       "16   820.8  1829  10.3  -5.0    34   3.22  315.0  32.0  299.9  310.0  300.5\n",
       "17   796.0  2084   7.8  -5.2    39   3.28  315.0  30.0  299.9  310.1  300.5\n",
       "18   791.2  2134   7.6  -9.2    29   2.41  315.0  30.0  300.2  307.8  300.6\n",
       "19   791.0  2136   7.6  -9.4    29   2.38  315.0  30.0  300.2  307.8  300.6"
      ]
     },
     "execution_count": 5,
     "metadata": {},
     "output_type": "execute_result"
    }
   ],
   "source": [
    "\n",
    "df.head(20)"
   ]
  },
  {
   "cell_type": "code",
   "execution_count": null,
   "metadata": {
    "collapsed": false
   },
   "outputs": [],
   "source": [
    "df_temp = df.copy()\n",
    "df1=df_temp.drop(labels=['RELH', 'MIXR', 'DRCT', 'SKNT', 'THTA','THTE', 'THTV'],axis=1)\n",
    "df.describe()"
   ]
  },
  {
   "cell_type": "code",
   "execution_count": null,
   "metadata": {
    "collapsed": false,
    "scrolled": true
   },
   "outputs": [],
   "source": [
    "df.apply(lambda x: sum(x.isnull()),axis=0)"
   ]
  },
  {
   "cell_type": "code",
   "execution_count": null,
   "metadata": {
    "collapsed": true
   },
   "outputs": [],
   "source": [
    "df_clean = df.dropna()"
   ]
  },
  {
   "cell_type": "code",
   "execution_count": null,
   "metadata": {
    "collapsed": false
   },
   "outputs": [],
   "source": [
    "df_clean.describe()"
   ]
  },
  {
   "cell_type": "code",
   "execution_count": null,
   "metadata": {
    "collapsed": false
   },
   "outputs": [],
   "source": [
    "df.columns"
   ]
  },
  {
   "cell_type": "code",
   "execution_count": null,
   "metadata": {
    "collapsed": true
   },
   "outputs": [],
   "source": [
    "matplotlib inline"
   ]
  },
  {
   "cell_type": "code",
   "execution_count": null,
   "metadata": {
    "collapsed": false,
    "scrolled": true
   },
   "outputs": [],
   "source": [
    "plt.plot(df.HGHT ,df.PRES)\n",
    "plt.title('Presion vs Altura')\n",
    "plt.xlabel(\"Altura\")\n",
    "plt.ylabel(\"Presion\")"
   ]
  },
  {
   "cell_type": "code",
   "execution_count": null,
   "metadata": {
    "collapsed": false
   },
   "outputs": [],
   "source": [
    "plt.plot(df.HGHT ,df.TEMP)\n",
    "plt.title('Temperatura vs Altura')\n",
    "plt.xlabel(\"Altura\")\n",
    "plt.ylabel(\"Temperatura\")"
   ]
  },
  {
   "cell_type": "code",
   "execution_count": null,
   "metadata": {
    "collapsed": false
   },
   "outputs": [],
   "source": [
    "plt.plot(df.HGHT ,df.DWPT)\n",
    "plt.title('Temperatura del rocío vs Altura')\n",
    "plt.xlabel(\"Altura\")\n",
    "plt.ylabel(\"Temperatura del rocío\")"
   ]
  },
  {
   "cell_type": "code",
   "execution_count": null,
   "metadata": {
    "collapsed": false
   },
   "outputs": [],
   "source": [
    "plt.plot(df.HGHT ,df.TEMP)\n",
    "plt.plot(df.HGHT ,df.DWPT)\n",
    "plt.title('Temperatura y Temperatura de rocío vs Altura')\n",
    "plt.xlabel(\"Alturas\")\n",
    "plt.ylabel(\"Temperaturas\")"
   ]
  },
  {
   "cell_type": "code",
   "execution_count": null,
   "metadata": {
    "collapsed": false
   },
   "outputs": [],
   "source": [
    "df_temp = df.copy()\n",
    "df1=df_temp.drop(labels=['RELH', 'MIXR', 'DRCT', 'SKNT', 'THTA','THTE', 'THTV'],axis=1)\n",
    "df1.head(30)"
   ]
  },
  {
   "cell_type": "code",
   "execution_count": null,
   "metadata": {
    "collapsed": false
   },
   "outputs": [],
   "source": [
    "import os.path\n",
    "import tephi as tph"
   ]
  },
  {
   "cell_type": "code",
   "execution_count": null,
   "metadata": {
    "collapsed": false
   },
   "outputs": [],
   "source": [
    "dew_point = pd.read_csv(\"/home/luistorres/Fisica_computacional/Act_4/PRES-ROCIO.csv\" , names=[\"PRES\", \"DWPT\"])\n",
    "dry_bulb = pd.read_csv(\"/home/luistorres/Fisica_computacional/Act_4/PRES-TEMP.csv\", names=[\"PRES\", \"TEMP\"])\n",
    "tpg = tph.Tephigram()\n",
    "tpg.plot(dew_point)\n",
    "tpg.plot(dry_bulb)\n",
    "plt.show()"
   ]
  }
 ],
 "metadata": {
  "anaconda-cloud": {},
  "kernelspec": {
   "display_name": "Python [conda root]",
   "language": "python",
   "name": "conda-root-py"
  },
  "language_info": {
   "codemirror_mode": {
    "name": "ipython",
    "version": 3
   },
   "file_extension": ".py",
   "mimetype": "text/x-python",
   "name": "python",
   "nbconvert_exporter": "python",
   "pygments_lexer": "ipython3",
   "version": "3.5.2"
  }
 },
 "nbformat": 4,
 "nbformat_minor": 1
}
